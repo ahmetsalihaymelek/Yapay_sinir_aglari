{
  "nbformat": 4,
  "nbformat_minor": 0,
  "metadata": {
    "colab": {
      "provenance": []
    },
    "kernelspec": {
      "name": "python3",
      "display_name": "Python 3"
    },
    "language_info": {
      "name": "python"
    }
  },
  "cells": [
    {
      "cell_type": "code",
      "execution_count": 25,
      "metadata": {
        "id": "3LCpc2V71mVZ"
      },
      "outputs": [],
      "source": [
        "import torch\n",
        "import torch.nn as nn\n",
        "import torch.optim as optim\n",
        "import numpy as np\n",
        "import pandas as pd\n",
        "import datetime"
      ]
    },
    {
      "cell_type": "code",
      "source": [
        "from google.colab import drive\n",
        "drive.mount(\"/content/drive\")"
      ],
      "metadata": {
        "colab": {
          "base_uri": "https://localhost:8080/"
        },
        "id": "F0ewFGrk1uNy",
        "outputId": "9051e8f0-371f-4213-da7f-874a8978d546"
      },
      "execution_count": 26,
      "outputs": [
        {
          "output_type": "stream",
          "name": "stdout",
          "text": [
            "Drive already mounted at /content/drive; to attempt to forcibly remount, call drive.mount(\"/content/drive\", force_remount=True).\n"
          ]
        }
      ]
    },
    {
      "cell_type": "code",
      "source": [
        "firsTime=datetime.datetime.now()\n",
        "print(firsTime)\n",
        "torch.manual_seed(190401068)\n",
        "batch_size = 16"
      ],
      "metadata": {
        "colab": {
          "base_uri": "https://localhost:8080/"
        },
        "id": "u7asaX2j1uL6",
        "outputId": "7dde25f0-7c76-453d-bcfe-cdc1dfd2c489"
      },
      "execution_count": 27,
      "outputs": [
        {
          "output_type": "stream",
          "name": "stdout",
          "text": [
            "2023-04-09 21:29:05.424633\n"
          ]
        }
      ]
    },
    {
      "cell_type": "code",
      "source": [
        "# Veri setlerini yükleme\n",
        "train_df = pd.read_csv('/content/drive/MyDrive/yapay_sinir_aglari/cure_the_princess_train.csv')\n",
        "test_df = pd.read_csv('/content/drive/MyDrive/yapay_sinir_aglari/cure_the_princess_test.csv')\n",
        "val_df = pd.read_csv('/content/drive/MyDrive/yapay_sinir_aglari/cure_the_princess_validation.csv')\n",
        "\n",
        "from torch.utils.data import DataLoader, TensorDataset\n",
        "train_inputs = train_df.drop('Cured', axis=1).values\n",
        "train_labels = train_df['Cured'].values\n",
        "train_dataset = TensorDataset(torch.tensor(train_inputs, dtype=torch.float), torch.tensor(train_labels, dtype=torch.long))\n",
        "\n",
        "val_inputs = val_df.drop('Cured', axis=1).values\n",
        "val_labels = val_df['Cured'].values\n",
        "val_dataset = TensorDataset(torch.tensor(val_inputs, dtype=torch.float), torch.tensor(val_labels, dtype=torch.long))\n",
        "\n",
        "test_inputs = test_df.drop('Cured', axis=1).values\n",
        "test_labels = test_df['Cured'].values\n",
        "test_dataset = TensorDataset(torch.tensor(test_inputs, dtype=torch.float), torch.tensor(test_labels, dtype=torch.long))\n",
        "\n",
        "train_loader = DataLoader(train_dataset, batch_size=batch_size, shuffle=True)\n",
        "test_loader = DataLoader(test_dataset, batch_size=batch_size)\n",
        "val_loader = DataLoader(val_dataset, batch_size=batch_size)"
      ],
      "metadata": {
        "id": "H4hbjA3G1uJd"
      },
      "execution_count": 28,
      "outputs": []
    },
    {
      "cell_type": "code",
      "source": [
        "# Modeli oluşturma\n",
        "class MLP(nn.Module):\n",
        "    def __init__(self, input_size, hidden_size1, hidden_size2, output_size):\n",
        "        super(MLP, self).__init__()\n",
        "        self.fc1 = nn.Linear(input_size, hidden_size1)\n",
        "        self.fc2 = nn.Linear(hidden_size1, hidden_size2)\n",
        "        self.fc3 = nn.Linear(hidden_size2, output_size)\n",
        "        self.relu = nn.ReLU()\n",
        "        self.sigmoid = nn.Sigmoid()\n",
        "\n",
        "    def forward(self, x):\n",
        "       \n",
        "        out = self.fc1(x)\n",
        "        out = self.relu(out)\n",
        "        out = self.fc2(out)\n",
        "        out = self.relu(out)\n",
        "        out = self.fc3(out)\n",
        "        out = self.sigmoid(out)\n",
        "        return out"
      ],
      "metadata": {
        "id": "iB_lDBco1uG9"
      },
      "execution_count": 29,
      "outputs": []
    },
    {
      "cell_type": "code",
      "source": [
        "input_size=len(train_df.columns) - 1\n",
        "hidden_size1=100\n",
        "hidden_size2=50\n",
        "output_size=2\n",
        "\n",
        "device = torch.device('cuda' if torch.cuda.is_available() else 'cpu')\n",
        "#Farklı bir model adıyla oluşturdumki çalışıyormu görebileyim\n",
        "model = MLP(input_size, hidden_size1, hidden_size2, output_size).to(device)"
      ],
      "metadata": {
        "id": "px1cmHDm1uEo"
      },
      "execution_count": 30,
      "outputs": []
    },
    {
      "cell_type": "code",
      "source": [
        "\n",
        "# loss fonksiyonu belirlenir\n",
        "#criterion = nn.BCELoss()\n",
        "criterion=nn.CrossEntropyLoss()\n",
        "#Optimizasyon için Stochastic Gradient Descent yöntemini seçilir\n",
        "optimizer = torch.optim.SGD(model.parameters(), lr=0.01)\n",
        "# Epoch sayısı ve learning rate değerlerini belirlenir\n",
        "num_epochs = 50\n",
        "# Batch size seçilir\n"
      ],
      "metadata": {
        "id": "uQO0JBzH1uCH"
      },
      "execution_count": 31,
      "outputs": []
    },
    {
      "cell_type": "code",
      "source": [
        "import torch\n",
        "import torch.nn as nn\n",
        "import torch.optim as optim\n",
        "from torch.utils.data import DataLoader\n",
        "\n",
        "# Train ve validation veri yükleyicilerini oluşturun\n",
        "# train_loader = DataLoader(train_data, batch_size=batch_size, shuffle=True)\n",
        "# val_loader = DataLoader(val_data, batch_size=batch_size, shuffle=False)\n",
        "\n",
        "# Modeli ve kayıp fonksiyonunu tanımlayın\n",
        "# model = MyModel()\n",
        "# loss_fn = nn.CrossEntropyLoss()\n",
        "\n",
        "# Optimizasyon algoritmasını tanımlayın\n",
        "# optimizer = optim.Adam(model.parameters(), lr=learning_rate)\n",
        "\n",
        "# Train ve validation döngüleri\n",
        "train_loss_list=[]\n",
        "best_val_loss=None\n",
        "patience=5\n",
        "val_loss_list=[]\n",
        "for epoch in range(num_epochs):\n",
        "    # Eğitim modu\n",
        "    model.train()\n",
        "    train_loss = 0.0\n",
        "    correct = 0\n",
        "    total = 0\n",
        "    \n",
        "    for data, target in train_loader:\n",
        "        \n",
        "        # Verileri tensörlere dönüştürün\n",
        "        data, target = data.to(device), target.to(device)\n",
        "        \n",
        "        # Gradyanları sıfırlayın\n",
        "        optimizer.zero_grad()\n",
        "        \n",
        "        # İleri doğru hesaplama\n",
        "        output = model(data)\n",
        "        \n",
        "        loss = criterion(output, target)\n",
        "        #l1\n",
        "        l1_lambda = 0.001\n",
        "        l1_reg = torch.tensor(0.)\n",
        "        for param in model.parameters():\n",
        "            l1_reg += torch.norm(param, p=1)\n",
        "\n",
        "        loss += l1_lambda * l1_reg\n",
        "\n",
        "        \n",
        "        # Kaybı geriye doğru hesaplayın ve gradiyanları hesaplayın\n",
        "        loss.backward()\n",
        "        optimizer.step()\n",
        "        \n",
        "        # İstatistikleri takip edin\n",
        "        train_loss += loss.item() * data.size(0)\n",
        "        _, predicted = torch.max(output.data, 1)\n",
        "        total += target.size(0)\n",
        "        \n",
        "        correct += (predicted == target).sum().item()\n",
        "        \n",
        "    \n",
        "    train_loss /= len(train_loader.dataset)\n",
        "    train_loss_list.append(train_loss)\n",
        "    train_acc = 100 * correct / total\n",
        "    \n",
        "    # Değerlendirme modu\n",
        "    model.eval()\n",
        "    val_loss = 0.0\n",
        "    \n",
        "    \n",
        "    with torch.no_grad():\n",
        "        correct = 0\n",
        "        total = 0\n",
        "        for data, target in val_loader:\n",
        "            # Verileri tensörlere dönüştürün\n",
        "            data, target = data.to(device), target.to(device)\n",
        "            \n",
        "            # İleri doğru hesaplama\n",
        "            output = model(data)\n",
        "            loss = criterion(output, target)\n",
        "            l1_lambda = 0.001\n",
        "            l1_reg = torch.tensor(0.)\n",
        "            for param in model.parameters():\n",
        "              l1_reg += torch.norm(param, p=1)\n",
        "\n",
        "            loss += l1_lambda * l1_reg\n",
        "            \n",
        "            # İstatistikleri takip edin\n",
        "            val_loss += loss.item() * data.size(0)\n",
        "            _, predicted = torch.max(output.data, 1)\n",
        "            total += target.size(0)\n",
        "            correct += (predicted == target).sum().item()\n",
        "    \n",
        "    val_loss /= len(val_loader.dataset)\n",
        "    val_acc = 100 * (correct / total)\n",
        "    val_loss_list.append(val_loss)\n",
        "    #EarlyStopping\n",
        "    val_score=val_loss\n",
        "\n",
        "    if best_val_loss is None:\n",
        "      patience_counter=0\n",
        "      best_val_loss=val_score       #hafızada patience boyu tutmaya başladık\n",
        "      torch.save(model.state_dict(),\"/checkpoint.pt\")\n",
        "    elif best_val_loss<val_score:     # patience counter\n",
        "      patience_counter+=1\n",
        "      print(\"Earlystopping Patience Counter\",patience_counter)\n",
        "      if patience_counter==patience:           \n",
        "        break\n",
        "    else:\n",
        "      best_val_loss=val_score\n",
        "      torch.save(model.state_dict(),\"checkpoint.pt\")        # en iyi modeli tutuyor\n",
        "      patience_counter=0        # en iyi modeli aldıktan sonra patience sıfırlıyoruz\n",
        "\n",
        "    # Her epok sonunda istatistikleri yazdırın\n",
        "    print(f'Epoch: {epoch+1}/{num_epochs} - Train Loss: {train_loss:.4f} - Train Acc: {train_acc:.2f}% - Val Loss: {val_loss:.4f} - Val Acc: {val_acc:.2f}%')\n"
      ],
      "metadata": {
        "colab": {
          "base_uri": "https://localhost:8080/"
        },
        "id": "kLaVcwNZ1t_t",
        "outputId": "99dc9f7f-91fb-4bd9-a7fa-102a209086ea"
      },
      "execution_count": 32,
      "outputs": [
        {
          "output_type": "stream",
          "name": "stdout",
          "text": [
            "Epoch: 1/50 - Train Loss: 1.0929 - Train Acc: 67.09% - Val Loss: 1.0392 - Val Acc: 75.48%\n",
            "Epoch: 2/50 - Train Loss: 1.0308 - Train Acc: 75.24% - Val Loss: 0.9780 - Val Acc: 82.17%\n",
            "Earlystopping Patience Counter 1\n",
            "Epoch: 3/50 - Train Loss: 0.9832 - Train Acc: 79.07% - Val Loss: 0.9826 - Val Acc: 76.75%\n",
            "Epoch: 4/50 - Train Loss: 0.9528 - Train Acc: 81.55% - Val Loss: 0.9330 - Val Acc: 81.53%\n",
            "Epoch: 5/50 - Train Loss: 0.9213 - Train Acc: 84.66% - Val Loss: 0.8785 - Val Acc: 91.72%\n",
            "Epoch: 6/50 - Train Loss: 0.9012 - Train Acc: 86.02% - Val Loss: 0.8614 - Val Acc: 90.13%\n",
            "Epoch: 7/50 - Train Loss: 0.8879 - Train Acc: 86.50% - Val Loss: 0.8429 - Val Acc: 92.68%\n",
            "Epoch: 8/50 - Train Loss: 0.8726 - Train Acc: 87.70% - Val Loss: 0.8358 - Val Acc: 91.08%\n",
            "Earlystopping Patience Counter 1\n",
            "Epoch: 9/50 - Train Loss: 0.8628 - Train Acc: 88.42% - Val Loss: 0.8422 - Val Acc: 90.45%\n",
            "Epoch: 10/50 - Train Loss: 0.8512 - Train Acc: 88.50% - Val Loss: 0.8129 - Val Acc: 92.68%\n",
            "Epoch: 11/50 - Train Loss: 0.8429 - Train Acc: 88.74% - Val Loss: 0.8078 - Val Acc: 92.99%\n",
            "Epoch: 12/50 - Train Loss: 0.8347 - Train Acc: 89.38% - Val Loss: 0.8010 - Val Acc: 92.68%\n",
            "Epoch: 13/50 - Train Loss: 0.8272 - Train Acc: 89.54% - Val Loss: 0.7968 - Val Acc: 93.31%\n",
            "Earlystopping Patience Counter 1\n",
            "Epoch: 14/50 - Train Loss: 0.8192 - Train Acc: 90.02% - Val Loss: 0.8281 - Val Acc: 87.26%\n",
            "Earlystopping Patience Counter 2\n",
            "Epoch: 15/50 - Train Loss: 0.8136 - Train Acc: 90.02% - Val Loss: 0.8074 - Val Acc: 90.45%\n",
            "Epoch: 16/50 - Train Loss: 0.8060 - Train Acc: 90.42% - Val Loss: 0.7816 - Val Acc: 92.99%\n",
            "Epoch: 17/50 - Train Loss: 0.7988 - Train Acc: 90.73% - Val Loss: 0.7681 - Val Acc: 93.95%\n",
            "Epoch: 18/50 - Train Loss: 0.7905 - Train Acc: 91.53% - Val Loss: 0.7615 - Val Acc: 93.63%\n",
            "Earlystopping Patience Counter 1\n",
            "Epoch: 19/50 - Train Loss: 0.7869 - Train Acc: 90.65% - Val Loss: 0.8126 - Val Acc: 86.94%\n",
            "Earlystopping Patience Counter 2\n",
            "Epoch: 20/50 - Train Loss: 0.7788 - Train Acc: 92.01% - Val Loss: 0.7675 - Val Acc: 92.68%\n",
            "Earlystopping Patience Counter 3\n",
            "Epoch: 21/50 - Train Loss: 0.7750 - Train Acc: 90.97% - Val Loss: 0.7637 - Val Acc: 92.04%\n",
            "Epoch: 22/50 - Train Loss: 0.7688 - Train Acc: 92.01% - Val Loss: 0.7431 - Val Acc: 93.95%\n",
            "Earlystopping Patience Counter 1\n",
            "Epoch: 23/50 - Train Loss: 0.7624 - Train Acc: 91.93% - Val Loss: 0.7992 - Val Acc: 86.31%\n",
            "Earlystopping Patience Counter 2\n",
            "Epoch: 24/50 - Train Loss: 0.7575 - Train Acc: 91.69% - Val Loss: 0.7460 - Val Acc: 93.63%\n",
            "Epoch: 25/50 - Train Loss: 0.7526 - Train Acc: 92.01% - Val Loss: 0.7302 - Val Acc: 94.27%\n",
            "Epoch: 26/50 - Train Loss: 0.7467 - Train Acc: 92.65% - Val Loss: 0.7270 - Val Acc: 93.63%\n",
            "Epoch: 27/50 - Train Loss: 0.7402 - Train Acc: 92.89% - Val Loss: 0.7229 - Val Acc: 93.63%\n",
            "Epoch: 28/50 - Train Loss: 0.7351 - Train Acc: 92.81% - Val Loss: 0.7182 - Val Acc: 94.59%\n",
            "Earlystopping Patience Counter 1\n",
            "Epoch: 29/50 - Train Loss: 0.7312 - Train Acc: 92.97% - Val Loss: 0.7232 - Val Acc: 93.95%\n",
            "Earlystopping Patience Counter 2\n",
            "Epoch: 30/50 - Train Loss: 0.7282 - Train Acc: 93.13% - Val Loss: 0.7670 - Val Acc: 86.62%\n",
            "Epoch: 31/50 - Train Loss: 0.7241 - Train Acc: 93.29% - Val Loss: 0.7090 - Val Acc: 92.99%\n",
            "Earlystopping Patience Counter 1\n",
            "Epoch: 32/50 - Train Loss: 0.7163 - Train Acc: 93.53% - Val Loss: 0.7131 - Val Acc: 93.63%\n",
            "Epoch: 33/50 - Train Loss: 0.7155 - Train Acc: 92.73% - Val Loss: 0.6965 - Val Acc: 94.27%\n",
            "Epoch: 34/50 - Train Loss: 0.7075 - Train Acc: 93.53% - Val Loss: 0.6952 - Val Acc: 93.95%\n",
            "Epoch: 35/50 - Train Loss: 0.7019 - Train Acc: 93.85% - Val Loss: 0.6908 - Val Acc: 94.59%\n",
            "Epoch: 36/50 - Train Loss: 0.6996 - Train Acc: 93.69% - Val Loss: 0.6839 - Val Acc: 95.22%\n",
            "Epoch: 37/50 - Train Loss: 0.6944 - Train Acc: 94.33% - Val Loss: 0.6809 - Val Acc: 94.27%\n",
            "Earlystopping Patience Counter 1\n",
            "Epoch: 38/50 - Train Loss: 0.6911 - Train Acc: 94.33% - Val Loss: 0.7395 - Val Acc: 86.62%\n",
            "Epoch: 39/50 - Train Loss: 0.6858 - Train Acc: 94.25% - Val Loss: 0.6752 - Val Acc: 94.59%\n",
            "Epoch: 40/50 - Train Loss: 0.6805 - Train Acc: 94.65% - Val Loss: 0.6742 - Val Acc: 94.27%\n",
            "Epoch: 41/50 - Train Loss: 0.6788 - Train Acc: 93.85% - Val Loss: 0.6713 - Val Acc: 93.95%\n",
            "Epoch: 42/50 - Train Loss: 0.6729 - Train Acc: 94.41% - Val Loss: 0.6673 - Val Acc: 93.31%\n",
            "Epoch: 43/50 - Train Loss: 0.6689 - Train Acc: 94.33% - Val Loss: 0.6603 - Val Acc: 94.27%\n",
            "Earlystopping Patience Counter 1\n",
            "Epoch: 44/50 - Train Loss: 0.6644 - Train Acc: 94.73% - Val Loss: 0.6636 - Val Acc: 93.95%\n",
            "Earlystopping Patience Counter 2\n",
            "Epoch: 45/50 - Train Loss: 0.6611 - Train Acc: 94.73% - Val Loss: 0.6666 - Val Acc: 93.31%\n",
            "Earlystopping Patience Counter 3\n",
            "Epoch: 46/50 - Train Loss: 0.6570 - Train Acc: 95.13% - Val Loss: 0.6784 - Val Acc: 91.40%\n",
            "Epoch: 47/50 - Train Loss: 0.6531 - Train Acc: 94.97% - Val Loss: 0.6528 - Val Acc: 93.95%\n",
            "Earlystopping Patience Counter 1\n",
            "Epoch: 48/50 - Train Loss: 0.6499 - Train Acc: 94.73% - Val Loss: 0.6765 - Val Acc: 91.08%\n",
            "Epoch: 49/50 - Train Loss: 0.6471 - Train Acc: 95.05% - Val Loss: 0.6451 - Val Acc: 93.95%\n",
            "Epoch: 50/50 - Train Loss: 0.6429 - Train Acc: 95.45% - Val Loss: 0.6389 - Val Acc: 94.27%\n"
          ]
        }
      ]
    },
    {
      "cell_type": "code",
      "source": [
        "import matplotlib.pyplot as plt\n",
        "\n",
        "epochs = range(1, len(train_loss_list) + 1)\n",
        "plt.plot(epochs, train_loss_list, 'b', label='Training loss')\n",
        "plt.plot(epochs, val_loss_list, 'r', label='Validation loss')\n",
        "plt.title('Training and Validation Loss with L1 and Earlystopping')\n",
        "plt.xlabel('Epoch')\n",
        "plt.ylabel('Loss')\n",
        "plt.legend()\n",
        "plt.show()"
      ],
      "metadata": {
        "colab": {
          "base_uri": "https://localhost:8080/",
          "height": 472
        },
        "id": "Fyxp4UJ31t9N",
        "outputId": "e96f75d2-90fe-4c4c-f3dc-3804900cf153"
      },
      "execution_count": 33,
      "outputs": [
        {
          "output_type": "display_data",
          "data": {
            "text/plain": [
              "<Figure size 640x480 with 1 Axes>"
            ],
            "image/png": "[encoded data removed]"
          },
          "metadata": {}
        }
      ]
    },
    {
      "cell_type": "code",
      "source": [
        "input_size=len(train_df.columns) - 1\n",
        "hidden_size1=100\n",
        "hidden_size2=50\n",
        "output_size=2\n",
        "\n",
        "device = torch.device('cuda' if torch.cuda.is_available() else 'cpu')\n",
        "#Farklı bir model adıyla oluşturdumki çalışıyormu görebileyim\n",
        "model2 = MLP(input_size, hidden_size1, hidden_size2, output_size).to(device)"
      ],
      "metadata": {
        "id": "f-1rNQTA2eR8"
      },
      "execution_count": 34,
      "outputs": []
    },
    {
      "cell_type": "code",
      "source": [
        "model2.load_state_dict(torch.load(\"checkpoint.pt\"))"
      ],
      "metadata": {
        "colab": {
          "base_uri": "https://localhost:8080/"
        },
        "id": "ZC4lusas2lel",
        "outputId": "c8fb763b-dbe4-4cde-d0ab-e03b042511ed"
      },
      "execution_count": 35,
      "outputs": [
        {
          "output_type": "execute_result",
          "data": {
            "text/plain": [
              "<All keys matched successfully>"
            ]
          },
          "metadata": {},
          "execution_count": 35
        }
      ]
    },
    {
      "cell_type": "code",
      "source": [
        "from sklearn.metrics import confusion_matrix\n",
        "\n",
        "# Modeli değerlendirme modunda ayarla\n",
        "model.eval()\n",
        "\n",
        "# Test seti üzerinde döngüye gir ve tahminler yap\n",
        "with torch.no_grad():\n",
        "    true_labels = []\n",
        "    predicted_labels = []\n",
        "    for inputs, labels in test_loader:\n",
        "        inputs = inputs.to(device)\n",
        "        labels = labels.to(device)\n",
        "        outputs = model(inputs)\n",
        "        _, predicted = torch.max(outputs.data, 1)\n",
        "        true_labels += labels.cpu().numpy().tolist()\n",
        "        predicted_labels += predicted.cpu().numpy().tolist()\n",
        "\n",
        "# Confusion matrix'i hesapla\n",
        "cm = confusion_matrix(true_labels, predicted_labels)\n",
        "\n",
        "# Accuracy, precision, recall ve F1 skorlarını hesapla\n",
        "accuracy = (cm.diagonal().sum()) / (cm.sum())\n",
        "precision = (cm.diagonal() / cm.sum(axis=0)).mean()\n",
        "recall = (cm.diagonal() / cm.sum(axis=1)).mean()\n",
        "f1 = 2 * (precision * recall) / (precision + recall)\n",
        "print(\"L1 ve earlystopping sonrası\")\n",
        "print(f\"Test Accuracy : {accuracy:.4f}\")\n",
        "print(f\"Precision: {precision:.4f}\")\n",
        "print(f\"Recall: {recall:.4f}\")\n",
        "print(f\"F1 Score: {f1:.4f}\")"
      ],
      "metadata": {
        "colab": {
          "base_uri": "https://localhost:8080/"
        },
        "id": "SO7rM1Tz1t49",
        "outputId": "d0414b08-1af0-4e63-beda-2e7451abeb81"
      },
      "execution_count": 36,
      "outputs": [
        {
          "output_type": "stream",
          "name": "stdout",
          "text": [
            "L1 ve earlystopping sonrası\n",
            "Test Accuracy : 0.9456\n",
            "Precision: 0.9481\n",
            "Recall: 0.9458\n",
            "F1 Score: 0.9470\n"
          ]
        }
      ]
    },
    {
      "cell_type": "code",
      "source": [],
      "metadata": {
        "id": "YdPgENn81t2m"
      },
      "execution_count": 36,
      "outputs": []
    }
  ]
}