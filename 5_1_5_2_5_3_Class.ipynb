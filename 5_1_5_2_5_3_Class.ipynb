{
  "nbformat": 4,
  "nbformat_minor": 0,
  "metadata": {
    "colab": {
      "provenance": []
    },
    "kernelspec": {
      "name": "python3",
      "display_name": "Python 3"
    },
    "language_info": {
      "name": "python"
    }
  },
  "cells": [
    {
      "cell_type": "code",
      "execution_count": 1,
      "metadata": {
        "id": "QOqijyo-Sjni"
      },
      "outputs": [],
      "source": [
        "import torch\n",
        "import torch.nn as nn\n",
        "import torch.optim as optim\n",
        "import numpy as np\n",
        "import pandas as pd\n",
        "import datetime"
      ]
    },
    {
      "cell_type": "code",
      "source": [
        "from google.colab import drive\n",
        "drive.mount(\"/content/drive\")"
      ],
      "metadata": {
        "colab": {
          "base_uri": "https://localhost:8080/"
        },
        "id": "YJTJh3cCS9Uw",
        "outputId": "90bf04f4-aea5-4a21-f1b9-9aa84c505ae2"
      },
      "execution_count": 2,
      "outputs": [
        {
          "output_type": "stream",
          "name": "stdout",
          "text": [
            "Mounted at /content/drive\n"
          ]
        }
      ]
    },
    {
      "cell_type": "code",
      "source": [
        "firsTime=datetime.datetime.now()\n",
        "print(firsTime)\n",
        "torch.manual_seed(190401068)\n",
        "batch_size = 16"
      ],
      "metadata": {
        "colab": {
          "base_uri": "https://localhost:8080/"
        },
        "id": "4pVwpzrLS9tc",
        "outputId": "074cdda1-a0ac-4cf3-816e-a715b17efd5d"
      },
      "execution_count": 3,
      "outputs": [
        {
          "output_type": "stream",
          "name": "stdout",
          "text": [
            "2023-04-09 21:50:00.516154\n"
          ]
        }
      ]
    },
    {
      "cell_type": "code",
      "source": [
        "# Veri setlerini yükleme\n",
        "train_df = pd.read_csv('/content/drive/MyDrive/yapay_sinir_aglari/cure_the_princess_train.csv')\n",
        "test_df = pd.read_csv('/content/drive/MyDrive/yapay_sinir_aglari/cure_the_princess_test.csv')\n",
        "val_df = pd.read_csv('/content/drive/MyDrive/yapay_sinir_aglari/cure_the_princess_validation.csv')\n",
        "\n",
        "from torch.utils.data import DataLoader, TensorDataset\n",
        "train_inputs = train_df.drop('Cured', axis=1).values\n",
        "train_labels = train_df['Cured'].values\n",
        "train_dataset = TensorDataset(torch.tensor(train_inputs, dtype=torch.float), torch.tensor(train_labels, dtype=torch.long))\n",
        "\n",
        "val_inputs = val_df.drop('Cured', axis=1).values\n",
        "val_labels = val_df['Cured'].values\n",
        "val_dataset = TensorDataset(torch.tensor(val_inputs, dtype=torch.float), torch.tensor(val_labels, dtype=torch.long))\n",
        "\n",
        "test_inputs = test_df.drop('Cured', axis=1).values\n",
        "test_labels = test_df['Cured'].values\n",
        "test_dataset = TensorDataset(torch.tensor(test_inputs, dtype=torch.float), torch.tensor(test_labels, dtype=torch.long))\n",
        "\n",
        "train_loader = DataLoader(train_dataset, batch_size=batch_size, shuffle=True)\n",
        "test_loader = DataLoader(test_dataset, batch_size=batch_size)\n",
        "val_loader = DataLoader(val_dataset, batch_size=batch_size)"
      ],
      "metadata": {
        "id": "Uzm2VdC1S99R"
      },
      "execution_count": 4,
      "outputs": []
    },
    {
      "cell_type": "code",
      "source": [
        "# Modeli oluşturma\n",
        "class MLP(nn.Module):\n",
        "    def __init__(self, input_size, hidden_size1, hidden_size2, output_size):\n",
        "        super(MLP, self).__init__()\n",
        "        self.fc1 = nn.Linear(input_size, hidden_size1)\n",
        "        self.fc2 = nn.Linear(hidden_size1, hidden_size2)\n",
        "        self.fc3 = nn.Linear(hidden_size2, output_size)\n",
        "        self.relu = nn.ReLU()\n",
        "        self.sigmoid = nn.Sigmoid()\n",
        "\n",
        "    def forward(self, x):\n",
        "       \n",
        "        out = self.fc1(x)\n",
        "        out = self.relu(out)\n",
        "        out = self.fc2(out)\n",
        "        out = self.relu(out)\n",
        "        out = self.fc3(out)\n",
        "        out = self.sigmoid(out)\n",
        "        return out"
      ],
      "metadata": {
        "id": "WP-C-acxS-K4"
      },
      "execution_count": 5,
      "outputs": []
    },
    {
      "cell_type": "code",
      "source": [
        "# Model parametrelerini verme\n",
        "input_size=len(train_df.columns) - 1\n",
        "hidden_size1=100\n",
        "hidden_size2=50\n",
        "output_size=2\n",
        "\n",
        "device = torch.device('cuda' if torch.cuda.is_available() else 'cpu')\n",
        "model = MLP(input_size, hidden_size1, hidden_size2, output_size).to(device)"
      ],
      "metadata": {
        "id": "TbQ4DbTZS-YI"
      },
      "execution_count": 6,
      "outputs": []
    },
    {
      "cell_type": "code",
      "source": [
        "#Optimizasyon için Stochastic Gradient Descent yöntemini seçilir\n",
        "# Epoch sayısı ve learning rate değerlerini belirlenir\n",
        "criterion=nn.CrossEntropyLoss()\n",
        "optimizer = torch.optim.SGD(model.parameters(), lr=0.01)\n",
        "num_epochs = 50"
      ],
      "metadata": {
        "id": "ldIM4IdfS-j2"
      },
      "execution_count": 7,
      "outputs": []
    },
    {
      "cell_type": "code",
      "source": [
        "#######5.2#######\n",
        "# Train ve validation döngüleri\n",
        "train_loss_list=[]\n",
        "val_loss_list=[]\n",
        "best_val_loss=None\n",
        "patience=5\n",
        "for epoch in range(num_epochs):\n",
        "    # Eğitim modu\n",
        "    model.train()\n",
        "    train_loss = 0.0\n",
        "    correct = 0\n",
        "    total = 0\n",
        "    \n",
        "    for data, target in train_loader:\n",
        "        \n",
        "        # Verileri tensörlere dönüştürün\n",
        "        data, target = data.to(device), target.to(device)\n",
        "        \n",
        "        # Gradyanları sıfırlayın\n",
        "        optimizer.zero_grad()\n",
        "        \n",
        "        # İleri doğru hesaplama\n",
        "        output = model(data)\n",
        "        #target= torch.flatten(target)\n",
        "        loss = criterion(output, target)\n",
        "        \n",
        "        \n",
        "        # Kaybı geriye doğru hesaplayın ve gradiyanları hesaplayın\n",
        "        loss.backward()\n",
        "        optimizer.step()\n",
        "        \n",
        "        # İstatistikleri takip edin\n",
        "        train_loss += loss.item() * data.size(0)\n",
        "        _, predicted = torch.max(output.data, 1)\n",
        "        total += target.size(0)\n",
        "        \n",
        "        correct += (predicted == target).sum().item()\n",
        "        \n",
        "    \n",
        "    train_loss /= len(train_loader.dataset)\n",
        "    train_loss_list.append(train_loss)\n",
        "    train_acc = 100 * correct / total\n",
        "    \n",
        "    # Değerlendirme modu\n",
        "    model.eval()\n",
        "    val_loss = 0.0\n",
        "    \n",
        "    \n",
        "    with torch.no_grad():\n",
        "        correct = 0\n",
        "        total = 0\n",
        "        for data, target in val_loader:\n",
        "            data, target = data.to(device), target.to(device)\n",
        "            \n",
        "            # İleri doğru hesaplama\n",
        "            output = model(data)\n",
        "            loss = criterion(output, target)\n",
        "            \n",
        "            # İstatistikleri takip edin\n",
        "            val_loss += loss.item() * data.size(0)\n",
        "            _, predicted = torch.max(output.data, 1)\n",
        "            total += target.size(0)\n",
        "            correct += (predicted == target).sum().item()\n",
        "    \n",
        "    val_loss /= len(val_loader.dataset)\n",
        "    val_acc = 100 * (correct / total)\n",
        "    val_loss_list.append(val_loss)\n",
        "    #EarlyStopping\n",
        "    val_score=val_loss\n",
        "\n",
        "    if best_val_loss is None:\n",
        "      patience_counter=0\n",
        "      best_val_loss=val_score       #hafızada patience boyu tutmaya başladık\n",
        "      torch.save(model.state_dict(),\"checkpoint.pt\")\n",
        "    elif best_val_loss<val_score:     # patience counter\n",
        "      patience_counter+=1\n",
        "      print(\"Earlystopping Patience Counter\",patience_counter)\n",
        "      if patience_counter==patience:           \n",
        "        break\n",
        "    else:\n",
        "      best_val_loss=val_score\n",
        "      torch.save(model.state_dict(),\"checkpoint.pt\")# en iyi modeli tutuyor\n",
        "      patience_counter=0 # en iyi modeli aldıktan sonra patience sıfırlıyoruz\n",
        "\n",
        "    # Her epok sonunda istatistikleri yazdırın\n",
        "    print(f'Epoch: {epoch+1}/{num_epochs} - Train Loss: {train_loss:.4f} - Train Acc: {train_acc:.2f}% - Val Loss: {val_loss:.4f} - Val Acc: {val_acc:.2f}%')\n"
      ],
      "metadata": {
        "colab": {
          "base_uri": "https://localhost:8080/"
        },
        "id": "3-dhmACFS-vt",
        "outputId": "13aab072-5df8-4a43-d3ba-1705d6df55b0"
      },
      "execution_count": 8,
      "outputs": [
        {
          "output_type": "stream",
          "name": "stdout",
          "text": [
            "Epoch: 1/50 - Train Loss: 0.6452 - Train Acc: 67.17% - Val Loss: 0.5926 - Val Acc: 75.48%\n",
            "Epoch: 2/50 - Train Loss: 0.5858 - Train Acc: 75.40% - Val Loss: 0.5339 - Val Acc: 82.48%\n",
            "Earlystopping Patience Counter 1\n",
            "Epoch: 3/50 - Train Loss: 0.5413 - Train Acc: 79.55% - Val Loss: 0.5442 - Val Acc: 76.43%\n",
            "Epoch: 4/50 - Train Loss: 0.5146 - Train Acc: 81.39% - Val Loss: 0.4993 - Val Acc: 81.53%\n",
            "Epoch: 5/50 - Train Loss: 0.4866 - Train Acc: 84.42% - Val Loss: 0.4456 - Val Acc: 91.72%\n",
            "Epoch: 6/50 - Train Loss: 0.4699 - Train Acc: 86.10% - Val Loss: 0.4312 - Val Acc: 90.76%\n",
            "Epoch: 7/50 - Train Loss: 0.4606 - Train Acc: 86.90% - Val Loss: 0.4170 - Val Acc: 92.68%\n",
            "Epoch: 8/50 - Train Loss: 0.4492 - Train Acc: 87.94% - Val Loss: 0.4161 - Val Acc: 91.40%\n",
            "Earlystopping Patience Counter 1\n",
            "Epoch: 9/50 - Train Loss: 0.4432 - Train Acc: 88.26% - Val Loss: 0.4235 - Val Acc: 91.08%\n",
            "Epoch: 10/50 - Train Loss: 0.4354 - Train Acc: 88.74% - Val Loss: 0.3988 - Val Acc: 92.68%\n",
            "Epoch: 11/50 - Train Loss: 0.4310 - Train Acc: 88.74% - Val Loss: 0.3970 - Val Acc: 92.68%\n",
            "Epoch: 12/50 - Train Loss: 0.4262 - Train Acc: 89.54% - Val Loss: 0.3937 - Val Acc: 93.31%\n",
            "Epoch: 13/50 - Train Loss: 0.4227 - Train Acc: 89.78% - Val Loss: 0.3929 - Val Acc: 93.31%\n",
            "Earlystopping Patience Counter 1\n",
            "Epoch: 14/50 - Train Loss: 0.4183 - Train Acc: 90.26% - Val Loss: 0.4294 - Val Acc: 87.58%\n",
            "Earlystopping Patience Counter 2\n",
            "Epoch: 15/50 - Train Loss: 0.4168 - Train Acc: 90.58% - Val Loss: 0.4084 - Val Acc: 91.40%\n",
            "Epoch: 16/50 - Train Loss: 0.4125 - Train Acc: 90.73% - Val Loss: 0.3913 - Val Acc: 93.31%\n",
            "Epoch: 17/50 - Train Loss: 0.4088 - Train Acc: 91.21% - Val Loss: 0.3812 - Val Acc: 93.31%\n",
            "Epoch: 18/50 - Train Loss: 0.4045 - Train Acc: 91.69% - Val Loss: 0.3781 - Val Acc: 93.63%\n",
            "Earlystopping Patience Counter 1\n",
            "Epoch: 19/50 - Train Loss: 0.4050 - Train Acc: 91.21% - Val Loss: 0.4410 - Val Acc: 86.94%\n",
            "Earlystopping Patience Counter 2\n",
            "Epoch: 20/50 - Train Loss: 0.4004 - Train Acc: 92.33% - Val Loss: 0.3937 - Val Acc: 92.68%\n",
            "Earlystopping Patience Counter 3\n",
            "Epoch: 21/50 - Train Loss: 0.4003 - Train Acc: 91.77% - Val Loss: 0.3881 - Val Acc: 92.99%\n",
            "Epoch: 22/50 - Train Loss: 0.3975 - Train Acc: 92.49% - Val Loss: 0.3759 - Val Acc: 94.27%\n",
            "Earlystopping Patience Counter 1\n",
            "Epoch: 23/50 - Train Loss: 0.3948 - Train Acc: 92.33% - Val Loss: 0.4218 - Val Acc: 88.54%\n",
            "Earlystopping Patience Counter 2\n",
            "Epoch: 24/50 - Train Loss: 0.3933 - Train Acc: 92.09% - Val Loss: 0.3870 - Val Acc: 93.31%\n",
            "Epoch: 25/50 - Train Loss: 0.3927 - Train Acc: 92.73% - Val Loss: 0.3743 - Val Acc: 94.27%\n",
            "Epoch: 26/50 - Train Loss: 0.3897 - Train Acc: 93.29% - Val Loss: 0.3713 - Val Acc: 94.27%\n",
            "Earlystopping Patience Counter 1\n",
            "Epoch: 27/50 - Train Loss: 0.3873 - Train Acc: 93.45% - Val Loss: 0.3731 - Val Acc: 94.27%\n",
            "Earlystopping Patience Counter 2\n",
            "Epoch: 28/50 - Train Loss: 0.3851 - Train Acc: 93.85% - Val Loss: 0.3725 - Val Acc: 94.59%\n",
            "Earlystopping Patience Counter 3\n",
            "Epoch: 29/50 - Train Loss: 0.3848 - Train Acc: 94.01% - Val Loss: 0.3872 - Val Acc: 93.95%\n",
            "Earlystopping Patience Counter 4\n",
            "Epoch: 30/50 - Train Loss: 0.3858 - Train Acc: 93.69% - Val Loss: 0.4151 - Val Acc: 88.85%\n",
            "Earlystopping Patience Counter 5\n"
          ]
        }
      ]
    },
    {
      "cell_type": "code",
      "source": [
        "import matplotlib.pyplot as plt\n",
        "\n",
        "epochs = range(1, len(train_loss_list) + 1)\n",
        "plt.plot(epochs, train_loss_list, 'b', label='Training loss')\n",
        "plt.plot(epochs, val_loss_list, 'r', label='Validation loss')\n",
        "plt.title('Training and Validation Loss')\n",
        "plt.xlabel('Epoch')\n",
        "plt.ylabel('Loss')\n",
        "plt.legend()\n",
        "plt.show()"
      ],
      "metadata": {
        "colab": {
          "base_uri": "https://localhost:8080/",
          "height": 472
        },
        "id": "fFruG7mGTaEZ",
        "outputId": "8c25986e-aa71-4d46-bf47-e00e2c65d6dd"
      },
      "execution_count": 9,
      "outputs": [
        {
          "output_type": "display_data",
          "data": {
            "text/plain": [
              "<Figure size 640x480 with 1 Axes>"
            ],
            "image/png": "[encoded data removed]"
          },
          "metadata": {}
        }
      ]
    },
    {
      "cell_type": "code",
      "source": [
        "## Modelimiz Eğitim işlemlerini yukarda bitirdi ve en iyi modeli kaydetti kaydettiği bu modeli torch load ile birlikte boş bir modelin içine atayıp test verisi üzerinde deneme yapıcaz"
      ],
      "metadata": {
        "id": "3c9TZnp9T0lR"
      },
      "execution_count": 10,
      "outputs": []
    },
    {
      "cell_type": "code",
      "source": [
        "input_size=len(train_df.columns) - 1\n",
        "hidden_size1=100\n",
        "hidden_size2=50\n",
        "output_size=2\n",
        "\n",
        "device = torch.device('cuda' if torch.cuda.is_available() else 'cpu')\n",
        "#Farklı bir model adıyla oluşturdumki çalışıyormu görebileyim\n",
        "model2 = MLP(input_size, hidden_size1, hidden_size2, output_size).to(device) # "
      ],
      "metadata": {
        "id": "DVsvomalTzxf"
      },
      "execution_count": 11,
      "outputs": []
    },
    {
      "cell_type": "code",
      "source": [
        "model2.load_state_dict(torch.load(\"checkpoint.pt\")) "
      ],
      "metadata": {
        "colab": {
          "base_uri": "https://localhost:8080/"
        },
        "id": "3zRJlU60Twng",
        "outputId": "e1dd942f-cba4-40bf-ac55-7c9a70d676fd"
      },
      "execution_count": 12,
      "outputs": [
        {
          "output_type": "execute_result",
          "data": {
            "text/plain": [
              "<All keys matched successfully>"
            ]
          },
          "metadata": {},
          "execution_count": 12
        }
      ]
    },
    {
      "cell_type": "code",
      "source": [
        "######5-3#####\n",
        "from sklearn.metrics import confusion_matrix\n",
        "\n",
        "# Modeli değerlendirme modunda ayarla\n",
        "model.eval()\n",
        "\n",
        "# Test seti üzerinde döngüye gir ve tahminler yap\n",
        "with torch.no_grad():\n",
        "    true_labels = []\n",
        "    predicted_labels = []\n",
        "    for inputs, labels in test_loader:\n",
        "        inputs = inputs.to(device)\n",
        "        labels = labels.to(device)\n",
        "        outputs = model2(inputs)\n",
        "        _, predicted = torch.max(outputs.data, 1)\n",
        "        true_labels += labels.cpu().numpy().tolist()\n",
        "        predicted_labels += predicted.cpu().numpy().tolist()\n",
        "\n",
        "# Confusion matrix'i hesapla\n",
        "cm = confusion_matrix(true_labels, predicted_labels)\n",
        "\n",
        "# Accuracy, precision, recall ve F1 skorlarını hesapla\n",
        "accuracy = (cm.diagonal().sum()) / (cm.sum())\n",
        "precision = (cm.diagonal() / cm.sum(axis=0)).mean()\n",
        "recall = (cm.diagonal() / cm.sum(axis=1)).mean()\n",
        "f1 = 2 * (precision * recall) / (precision + recall)\n",
        "print(\"sadece model\")\n",
        "print(f\"Test Accuracy: {accuracy:.4f}\")\n",
        "print(f\"Precision: {precision:.4f}\")\n",
        "print(f\"Recall: {recall:.4f}\")\n",
        "print(f\"F1 Score: {f1:.4f}\")"
      ],
      "metadata": {
        "colab": {
          "base_uri": "https://localhost:8080/"
        },
        "id": "RxR43MN2TgdQ",
        "outputId": "43c93196-2e47-4907-e117-6da0ca700404"
      },
      "execution_count": 13,
      "outputs": [
        {
          "output_type": "stream",
          "name": "stdout",
          "text": [
            "sadece model\n",
            "Test Accuracy: 0.9288\n",
            "Precision: 0.9288\n",
            "Recall: 0.9287\n",
            "F1 Score: 0.9288\n"
          ]
        }
      ]
    },
    {
      "cell_type": "code",
      "source": [
        "lastTime=datetime.datetime.now()\n",
        "print(f\"Geçen süre{lastTime-firsTime} Device: {device}\")"
      ],
      "metadata": {
        "colab": {
          "base_uri": "https://localhost:8080/"
        },
        "id": "2bLFCJOkUUrI",
        "outputId": "8f42c3e9-47c3-4e0c-8d01-e3da4f77b181"
      },
      "execution_count": 14,
      "outputs": [
        {
          "output_type": "stream",
          "name": "stdout",
          "text": [
            "Geçen süre0:00:07.418195 Device: cpu\n"
          ]
        }
      ]
    },
    {
      "cell_type": "code",
      "source": [],
      "metadata": {
        "id": "xl7MO4zmWnTh"
      },
      "execution_count": 14,
      "outputs": []
    }
  ]
}