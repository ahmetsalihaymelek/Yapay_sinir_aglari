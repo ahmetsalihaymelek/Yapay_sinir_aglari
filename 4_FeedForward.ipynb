{
  "nbformat": 4,
  "nbformat_minor": 0,
  "metadata": {
    "colab": {
      "provenance": []
    },
    "kernelspec": {
      "name": "python3",
      "display_name": "Python 3"
    },
    "language_info": {
      "name": "python"
    }
  },
  "cells": [
    {
      "cell_type": "code",
      "execution_count": null,
      "metadata": {
        "id": "CqPkVdy-unQB"
      },
      "outputs": [],
      "source": [
        "import torch\n",
        "import torch.nn as nn\n",
        "import torch.optim as optim"
      ]
    },
    {
      "cell_type": "code",
      "source": [
        "torch.manual_seed(1)"
      ],
      "metadata": {
        "colab": {
          "base_uri": "https://localhost:8080/"
        },
        "id": "6ipPsp_guwhg",
        "outputId": "762e543f-a8dc-4302-8258-26d943e19fd0"
      },
      "execution_count": null,
      "outputs": [
        {
          "output_type": "execute_result",
          "data": {
            "text/plain": [
              "<torch._C.Generator at 0x7fa9b41d1230>"
            ]
          },
          "metadata": {},
          "execution_count": 2
        }
      ]
    },
    {
      "cell_type": "code",
      "source": [
        "X = torch.tensor([[1, 2, 3], [4, 5, 6]], dtype=torch.float32)\n"
      ],
      "metadata": {
        "id": "voZBU90rupaE"
      },
      "execution_count": null,
      "outputs": []
    },
    {
      "cell_type": "code",
      "source": [
        "class Net(nn.Module):\n",
        "    def __init__(self):\n",
        "        super(Net, self).__init__()\n",
        "        self.fc1 = nn.Linear(3, 50)  # input boyutu 3, hidden layer boyutu 50\n",
        "        self.tanh = nn.Tanh()  # tanh aktivasyon fonksiyonu\n",
        "        self.fc2 = nn.Linear(50, 1)  # hidden layer boyutu 50, output boyutu 1\n",
        "        self.sigmoid = nn.Sigmoid()  # sigmoid aktivasyon fonksiyonu\n",
        "\n",
        "    def forward(self, x):\n",
        "        x = self.fc1(x)\n",
        "        x = self.tanh(x)\n",
        "        x = self.fc2(x)\n",
        "        x = self.sigmoid(x)\n",
        "        return x\n"
      ],
      "metadata": {
        "id": "_-pkQ-3eurOW"
      },
      "execution_count": null,
      "outputs": []
    },
    {
      "cell_type": "code",
      "source": [
        "model = Net()"
      ],
      "metadata": {
        "id": "mWFpPR6bvIEo"
      },
      "execution_count": null,
      "outputs": []
    },
    {
      "cell_type": "code",
      "source": [
        "output=model(X)\n",
        "print(output.data)\n"
      ],
      "metadata": {
        "colab": {
          "base_uri": "https://localhost:8080/"
        },
        "id": "dn_WmhFJvJIf",
        "outputId": "2cc34199-0f93-480d-cf30-d50a80ac7d60"
      },
      "execution_count": null,
      "outputs": [
        {
          "output_type": "stream",
          "name": "stdout",
          "text": [
            "tensor([[0.4892],\n",
            "        [0.5566]])\n"
          ]
        }
      ]
    },
    {
      "cell_type": "code",
      "source": [
        "torch.manual_seed(190401068)"
      ],
      "metadata": {
        "id": "5jNboAiIvThm",
        "colab": {
          "base_uri": "https://localhost:8080/"
        },
        "outputId": "cf7b906b-dbb2-47c4-c36c-c861f80a3f09"
      },
      "execution_count": null,
      "outputs": [
        {
          "output_type": "execute_result",
          "data": {
            "text/plain": [
              "<torch._C.Generator at 0x7fa9b41d1230>"
            ]
          },
          "metadata": {},
          "execution_count": 7
        }
      ]
    },
    {
      "cell_type": "code",
      "source": [
        "class Net(nn.Module):\n",
        "    def __init__(self):\n",
        "        super(Net, self).__init__()\n",
        "        self.fc1 = nn.Linear(3, 50)  # input boyutu 3, hidden layer boyutu 50\n",
        "        self.tanh = nn.Tanh()  # tanh aktivasyon fonksiyonu\n",
        "        self.fc2 = nn.Linear(50, 1)  # hidden layer boyutu 50, output boyutu 1\n",
        "        self.sigmoid = nn.Sigmoid()  # sigmoid aktivasyon fonksiyonu\n",
        "\n",
        "    def forward(self, x):\n",
        "        x = self.fc1(x)\n",
        "        x = self.tanh(x)\n",
        "        x = self.fc2(x)\n",
        "        x = self.sigmoid(x)\n",
        "        return x\n"
      ],
      "metadata": {
        "id": "GiNsAHeAHX7g"
      },
      "execution_count": null,
      "outputs": []
    },
    {
      "cell_type": "code",
      "source": [
        "model = Net()"
      ],
      "metadata": {
        "id": "kD20IF_zFJGN"
      },
      "execution_count": null,
      "outputs": []
    },
    {
      "cell_type": "code",
      "source": [
        "output=model(X)\n",
        "print(output.data)"
      ],
      "metadata": {
        "colab": {
          "base_uri": "https://localhost:8080/"
        },
        "id": "HEwK4hVCFJUE",
        "outputId": "1945ed31-ee6e-42b8-ef0a-a65ed3f51f70"
      },
      "execution_count": null,
      "outputs": [
        {
          "output_type": "stream",
          "name": "stdout",
          "text": [
            "tensor([[0.5278],\n",
            "        [0.5029]])\n"
          ]
        }
      ]
    }
  ]
}