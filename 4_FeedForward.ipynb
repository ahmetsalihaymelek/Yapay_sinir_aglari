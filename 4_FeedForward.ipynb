{
  "nbformat": 4,
  "nbformat_minor": 0,
  "metadata": {
    "colab": {
      "provenance": []
    },
    "kernelspec": {
      "name": "python3",
      "display_name": "Python 3"
    },
    "language_info": {
      "name": "python"
    }
  },
  "cells": [
    {
      "cell_type": "code",
      "execution_count": 17,
      "metadata": {
        "id": "CqPkVdy-unQB"
      },
      "outputs": [],
      "source": [
        "import torch\n",
        "import torch.nn as nn\n",
        "import torch.optim as optim"
      ]
    },
    {
      "cell_type": "code",
      "source": [
        "torch.manual_seed(1)"
      ],
      "metadata": {
        "colab": {
          "base_uri": "https://localhost:8080/"
        },
        "id": "6ipPsp_guwhg",
        "outputId": "18fdc091-9e34-4908-8fc8-fae9e627330b"
      },
      "execution_count": 18,
      "outputs": [
        {
          "output_type": "execute_result",
          "data": {
            "text/plain": [
              "<torch._C.Generator at 0x7f30a434c510>"
            ]
          },
          "metadata": {},
          "execution_count": 18
        }
      ]
    },
    {
      "cell_type": "code",
      "source": [
        "X = torch.tensor([[1, 2, 3], [4, 5, 6]], dtype=torch.float32)\n"
      ],
      "metadata": {
        "id": "voZBU90rupaE"
      },
      "execution_count": 19,
      "outputs": []
    },
    {
      "cell_type": "code",
      "source": [
        "class Net(nn.Module):\n",
        "    def __init__(self):\n",
        "        super(Net, self).__init__()\n",
        "        self.fc1 = nn.Linear(3, 50)  # input boyutu 3, hidden layer boyutu 50\n",
        "        #self.tanh = nn.Tanh()  # tanh aktivasyon fonksiyonu\n",
        "        self.fc2 = nn.Linear(50, 1)  # hidden layer boyutu 50, output boyutu 1\n",
        "        #self.sigmoid = nn.Sigmoid()  # sigmoid aktivasyon fonksiyonu\n",
        "    def tanh(self,x):\n",
        "      return torch.div(torch.exp(x) - torch.exp(-x), torch.exp(x) + torch.exp(-x))\n",
        "      \n",
        "    def sigmoid(self,x):\n",
        "      return 1 / (1 + torch.exp(-x))\n",
        "\n",
        "    def forward(self, x):\n",
        "        x = self.fc1(x)\n",
        "        x = self.tanh(x)\n",
        "        x = self.fc2(x)\n",
        "        x = self.sigmoid(x)\n",
        "        return x\n"
      ],
      "metadata": {
        "id": "_-pkQ-3eurOW"
      },
      "execution_count": 20,
      "outputs": []
    },
    {
      "cell_type": "code",
      "source": [
        "model = Net()"
      ],
      "metadata": {
        "id": "mWFpPR6bvIEo"
      },
      "execution_count": 21,
      "outputs": []
    },
    {
      "cell_type": "code",
      "source": [
        "output=model(X)\n",
        "print(output.data)\n"
      ],
      "metadata": {
        "colab": {
          "base_uri": "https://localhost:8080/"
        },
        "id": "dn_WmhFJvJIf",
        "outputId": "ef0544cf-40ef-41dc-d749-aa4d2a7d9fee"
      },
      "execution_count": 22,
      "outputs": [
        {
          "output_type": "stream",
          "name": "stdout",
          "text": [
            "tensor([[0.4892],\n",
            "        [0.5566]])\n"
          ]
        }
      ]
    },
    {
      "cell_type": "code",
      "source": [
        "torch.manual_seed(190401068)"
      ],
      "metadata": {
        "id": "5jNboAiIvThm",
        "colab": {
          "base_uri": "https://localhost:8080/"
        },
        "outputId": "9438822d-e26d-4876-9923-9aa6b3babe40"
      },
      "execution_count": 23,
      "outputs": [
        {
          "output_type": "execute_result",
          "data": {
            "text/plain": [
              "<torch._C.Generator at 0x7f30a434c510>"
            ]
          },
          "metadata": {},
          "execution_count": 23
        }
      ]
    },
    {
      "cell_type": "code",
      "source": [
        "class Net(nn.Module):\n",
        "    def __init__(self):\n",
        "        super(Net, self).__init__()\n",
        "        self.fc1 = nn.Linear(3, 50)  # input boyutu 3, hidden layer boyutu 50\n",
        "        #self.tanh = nn.Tanh()  # tanh aktivasyon fonksiyonu\n",
        "        self.fc2 = nn.Linear(50, 1)  # hidden layer boyutu 50, output boyutu 1\n",
        "        #self.sigmoid = nn.Sigmoid()  # sigmoid aktivasyon fonksiyonu\n",
        "    def tanh(self,x):\n",
        "      return torch.div(torch.exp(x) - torch.exp(-x), torch.exp(x) + torch.exp(-x))\n",
        "      \n",
        "    def sigmoid(self,x):\n",
        "      return 1 / (1 + torch.exp(-x))\n",
        "\n",
        "    def forward(self, x):\n",
        "        x = self.fc1(x)\n",
        "        x = self.tanh(x)\n",
        "        x = self.fc2(x)\n",
        "        x = self.sigmoid(x)\n",
        "        return x\n"
      ],
      "metadata": {
        "id": "GiNsAHeAHX7g"
      },
      "execution_count": 24,
      "outputs": []
    },
    {
      "cell_type": "code",
      "source": [
        "model = Net()"
      ],
      "metadata": {
        "id": "kD20IF_zFJGN"
      },
      "execution_count": 25,
      "outputs": []
    },
    {
      "cell_type": "code",
      "source": [
        "output=model(X)\n",
        "print(output.data)"
      ],
      "metadata": {
        "colab": {
          "base_uri": "https://localhost:8080/"
        },
        "id": "HEwK4hVCFJUE",
        "outputId": "bab67737-a520-495b-8c24-b3f2dc6653ae"
      },
      "execution_count": 26,
      "outputs": [
        {
          "output_type": "stream",
          "name": "stdout",
          "text": [
            "tensor([[0.5278],\n",
            "        [0.5029]])\n"
          ]
        }
      ]
    }
  ]
}